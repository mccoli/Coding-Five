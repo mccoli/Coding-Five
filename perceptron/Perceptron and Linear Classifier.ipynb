{
 "cells": [
  {
   "cell_type": "markdown",
   "id": "e2b6b2cf",
   "metadata": {},
   "source": [
    "*Adapted from https://github.com/nature-of-code/noc-examples-p5.js/tree/master/chp10_nn/NOC_10_01_Perceptron*"
   ]
  },
  {
   "cell_type": "markdown",
   "id": "a5587e83",
   "metadata": {},
   "source": [
    "## Install and Import Dependencies"
   ]
  },
  {
   "cell_type": "code",
   "execution_count": 1,
   "id": "baa7b8b7",
   "metadata": {
    "scrolled": true
   },
   "outputs": [
    {
     "name": "stdout",
     "output_type": "stream",
     "text": [
      "Requirement already satisfied: numpy in c:\\users\\mccal\\miniconda3\\lib\\site-packages (1.26.1)\n",
      "Requirement already satisfied: matplotlib in c:\\users\\mccal\\miniconda3\\lib\\site-packages (3.8.0)\n",
      "Requirement already satisfied: contourpy>=1.0.1 in c:\\users\\mccal\\miniconda3\\lib\\site-packages (from matplotlib) (1.1.1)\n",
      "Requirement already satisfied: cycler>=0.10 in c:\\users\\mccal\\miniconda3\\lib\\site-packages (from matplotlib) (0.12.1)\n",
      "Requirement already satisfied: fonttools>=4.22.0 in c:\\users\\mccal\\miniconda3\\lib\\site-packages (from matplotlib) (4.43.1)\n",
      "Requirement already satisfied: kiwisolver>=1.0.1 in c:\\users\\mccal\\miniconda3\\lib\\site-packages (from matplotlib) (1.4.5)\n",
      "Requirement already satisfied: numpy<2,>=1.21 in c:\\users\\mccal\\miniconda3\\lib\\site-packages (from matplotlib) (1.26.1)\n",
      "Requirement already satisfied: packaging>=20.0 in c:\\users\\mccal\\miniconda3\\lib\\site-packages (from matplotlib) (23.1)\n",
      "Requirement already satisfied: pillow>=6.2.0 in c:\\users\\mccal\\miniconda3\\lib\\site-packages (from matplotlib) (10.1.0)\n",
      "Requirement already satisfied: pyparsing>=2.3.1 in c:\\users\\mccal\\miniconda3\\lib\\site-packages (from matplotlib) (3.1.1)\n",
      "Requirement already satisfied: python-dateutil>=2.7 in c:\\users\\mccal\\miniconda3\\lib\\site-packages (from matplotlib) (2.8.2)\n",
      "Requirement already satisfied: six>=1.5 in c:\\users\\mccal\\miniconda3\\lib\\site-packages (from python-dateutil>=2.7->matplotlib) (1.16.0)\n"
     ]
    }
   ],
   "source": [
    "!pip install numpy\n",
    "!pip install matplotlib"
   ]
  },
  {
   "cell_type": "code",
   "execution_count": 88,
   "id": "4c8cedb2",
   "metadata": {},
   "outputs": [],
   "source": [
    "import random\n",
    "import matplotlib.pyplot as plt\n",
    "import matplotlib.animation as animation\n",
    "import math\n",
    "import numpy as np\n",
    "\n",
    "# %matplotlib notebook\n",
    "%matplotlib widget"
   ]
  },
  {
   "cell_type": "markdown",
   "id": "4867f90a",
   "metadata": {},
   "source": [
    "## Perceptron Class"
   ]
  },
  {
   "cell_type": "code",
   "execution_count": 89,
   "id": "c45be888",
   "metadata": {},
   "outputs": [],
   "source": [
    "# y = mx + c\n",
    "\n",
    "class Perceptron:\n",
    "    def __init__(self, n, lr, activation=None):\n",
    "        self.weights = np.random.uniform(0, 1, n)\n",
    "        self.lr = lr\n",
    "        self.activation = activation\n",
    "        \n",
    "    def train(self, inputs, desired):\n",
    "        # Make a guess\n",
    "        guess = self.feed_forward(inputs)\n",
    "        # Compute the factor for changing the weight based on the error\n",
    "        # Error = desired output - guessed/actual output\n",
    "        error = desired - guess\n",
    "        # Adjust weights based on learning rate * error * input\n",
    "        self.weights = [weight + (self.lr * error * inputs[i]) for i, weight in enumerate(self.weights)]\n",
    "    \n",
    "    def feed_forward(self, inputs):\n",
    "        # Sum all input values\n",
    "        # y = mx + x ..., y = m1x1 + m2x2 + c ... <- total gives the y\n",
    "        \n",
    "        total = sum([weight * inputs[i] for i, weight in enumerate(self.weights)])\n",
    "        \n",
    "        if self.activation == None:\n",
    "            return total\n",
    "        else:\n",
    "            return self.activate(total)\n",
    "        \n",
    "    def evaluate(self, inputs, desired):\n",
    "        guess = self.feed_forward(inputs)\n",
    "        return desired - guess\n",
    "    \n",
    "    def activate(self, total):\n",
    "        # Step function, outputs -1 or 1\n",
    "        if total > 0:\n",
    "            return 1\n",
    "        else:\n",
    "            return -1\n",
    "        \n",
    "        # Sigmoid function, outputs 0-1\n",
    "        # return 1/(1 + math.pow(math.e, -sum))\n",
    "    \n",
    "    def get_weights(self):\n",
    "        return self.weights"
   ]
  },
  {
   "cell_type": "markdown",
   "id": "d6bd242a",
   "metadata": {},
   "source": [
    "## Load in data\n",
    "\n",
    "[Fish Market](https://www.kaggle.com/aungpyaeap/fish-market) data taken from Kaggle. The data is in CSV form with headers of \"Species\", \"Weight\", \"Length1\", \"Length2\", \"Length3\", \"Height\", \"Width\". We load in the CSV file using Numpy.\n",
    "\n",
    "There are 159 entries and 7 columns for each entry."
   ]
  },
  {
   "cell_type": "code",
   "execution_count": 120,
   "id": "a1afa23c",
   "metadata": {},
   "outputs": [
    {
     "data": {
      "text/plain": [
       "array([['1169', '2136.2'],\n",
       "       ['1280', '2336.0'],\n",
       "       ['2380', '4316.0'],\n",
       "       ...,\n",
       "       ['1584', '2883.2'],\n",
       "       ['2396', '4344.8'],\n",
       "       ['0', '32.0']], dtype='<U6')"
      ]
     },
     "execution_count": 120,
     "metadata": {},
     "output_type": "execute_result"
    }
   ],
   "source": [
    "# Load in data as numpy array (156, 7) with each nested values being \n",
    "# Species, Weight, Length1, Length2, Length3, Height, Width respectively.\n",
    "# We keep the data type as strings for now so we still have the fish species name.\n",
    "raw_data = np.loadtxt(\"CFtraining.csv\", delimiter=\",\", skiprows=1, dtype=str)\n",
    "raw_data"
   ]
  },
  {
   "cell_type": "markdown",
   "id": "708b4024",
   "metadata": {},
   "source": [
    "For the next few steps we don't need the fish names so let's remove them. We will also need to convert the array type to \"float\" so that we can actually do maths on them."
   ]
  },
  {
   "cell_type": "code",
   "execution_count": 123,
   "id": "94f1104b",
   "metadata": {
    "scrolled": true
   },
   "outputs": [
    {
     "data": {
      "text/plain": [
       "(16000, 2)"
      ]
     },
     "execution_count": 123,
     "metadata": {},
     "output_type": "execute_result"
    }
   ],
   "source": [
    "data = np.array(raw_data, dtype=float)\n",
    "data.shape"
   ]
  },
  {
   "cell_type": "markdown",
   "id": "d26538bf",
   "metadata": {},
   "source": [
    "# Width vs Weight Perceptron\n",
    "\n",
    "We start by doing a simple perceptron that takes in the Width of a fish and predict its Weight."
   ]
  },
  {
   "cell_type": "code",
   "execution_count": 146,
   "id": "de3316d8",
   "metadata": {},
   "outputs": [
    {
     "name": "stdout",
     "output_type": "stream",
     "text": [
      "(16000, 2)\n"
     ]
    }
   ],
   "source": [
    "# Plot Width vs Weight\n",
    "# weight_width = data[:, 0::5]\n",
    "# print(weight_width.shape)\n",
    "\n",
    "# weight_width_input = weight_width[:,1]\n",
    "# weight_width_output = weight_width[:,0]\n",
    "# plot celsius vs farenheit\n",
    "celsius_farenheit = data\n",
    "print(celsius_farenheit.shape)\n",
    "\n",
    "celsius_farenheit_input = celsius_farenheit[:,0]\n",
    "celsius_farenheit_output = celsius_farenheit[:,1]"
   ]
  },
  {
   "cell_type": "markdown",
   "id": "5bf907d9",
   "metadata": {},
   "source": [
    "## Let's have a look at the data"
   ]
  },
  {
   "cell_type": "code",
   "execution_count": 143,
   "id": "3bb837f2",
   "metadata": {
    "scrolled": true
   },
   "outputs": [
    {
     "data": {
      "application/vnd.jupyter.widget-view+json": {
       "model_id": "d0cefe9157f7406697f5322f6777ab35",
       "version_major": 2,
       "version_minor": 0
      },
      "image/png": "[encoded data removed]",
      "text/html": [
       "\n",
       "            <div style=\"display: inline-block;\">\n",
       "                <div class=\"jupyter-widgets widget-label\" style=\"text-align: center;\">\n",
       "                    Figure 12\n",
       "                </div>\n",
       "                <img src='data:image/png;base64,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' width=640.0/>\n",
       "            </div>\n",
       "        "
      ],
      "text/plain": [
       "Canvas(toolbar=Toolbar(toolitems=[('Home', 'Reset original view', 'home', 'home'), ('Back', 'Back to previous …"
      ]
     },
     "metadata": {},
     "output_type": "display_data"
    }
   ],
   "source": [
    "plt.plot(celsius_farenheit_input, celsius_farenheit_output, \"ro\")\n",
    "plt.xlabel(\"C\")\n",
    "plt.ylabel(\"F\")\n",
    "plt.show()"
   ]
  },
  {
   "cell_type": "markdown",
   "id": "b2a35b9e",
   "metadata": {},
   "source": [
    "## Creating the Perceptron\n",
    "\n",
    "Here we create a perceptron with two inputs, one input will be the width of the fish while the other input will always be 1.0 and will serve as the bias term of our perceptron. The bias is needed when input of 0 doesn't match up with an output of 0, even if it does, leaving it in doesn't hurt.\n",
    "\n",
    "The initial weights are random values between 0.0 and 1.0."
   ]
  },
  {
   "cell_type": "code",
   "execution_count": 144,
   "id": "ba20f1fd",
   "metadata": {},
   "outputs": [
    {
     "data": {
      "text/plain": [
       "array([0.84056718, 0.604128  ])"
      ]
     },
     "execution_count": 144,
     "metadata": {},
     "output_type": "execute_result"
    }
   ],
   "source": [
    "perceptron = Perceptron(2, 0.001)\n",
    "perceptron.weights"
   ]
  },
  {
   "cell_type": "markdown",
   "id": "f4f896e4",
   "metadata": {},
   "source": [
    "## Train the Perceptron\n",
    "\n",
    "Here we train the perceptron with the data that we have. We pass in each piece of data that we have one at a time into the perceptron and adjust the weights according to the error and the learning rate.\n",
    "\n",
    "You can see how the perceptron is trying to fit a line through our dataset over time."
   ]
  },
  {
   "cell_type": "code",
   "execution_count": 152,
   "id": "b30d8072",
   "metadata": {
    "scrolled": true
   },
   "outputs": [
    {
     "data": {
      "application/vnd.jupyter.widget-view+json": {
       "model_id": "a625a3349760406eab982ef278e650b3",
       "version_major": 2,
       "version_minor": 0
      },
      "image/png": "[encoded data removed]",
      "text/html": [
       "\n",
       "            <div style=\"display: inline-block;\">\n",
       "                <div class=\"jupyter-widgets widget-label\" style=\"text-align: center;\">\n",
       "                    Figure\n",
       "                </div>\n",
       "                <img src='data:image/png;base64,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' width=640.0/>\n",
       "            </div>\n",
       "        "
      ],
      "text/plain": [
       "Canvas(toolbar=Toolbar(toolitems=[('Home', 'Reset original view', 'home', 'home'), ('Back', 'Back to previous …"
      ]
     },
     "metadata": {},
     "output_type": "display_data"
    }
   ],
   "source": [
    "fig, ax = plt.subplots()\n",
    "epochs = celsius_farenheit_input.shape[0]\n",
    "\n",
    "plt.xlabel(\"C\")\n",
    "plt.ylabel(\"F\")\n",
    "plt.plot(celsius_farenheit_input, celsius_farenheit_output, \"ro\")\n",
    "ln, = plt.plot([], [], \"-b\")\n",
    "txt = plt.text(0, 1800, \"\")\n",
    "\n",
    "def animate(frame_num):\n",
    "    perceptron.train([celsius_farenheit_input[frame_num], 1.0], celsius_farenheit_output[frame_num])\n",
    "    \n",
    "    x = np.linspace(0, 1500, 50)\n",
    "    y = perceptron.get_weights()[0] * x + perceptron.get_weights()[1]\n",
    "    ln.set_data(x, y)\n",
    "    \n",
    "    \n",
    "anim = animation.FuncAnimation(fig, animate, frames=epochs, interval=20)\n",
    "plt.show()"
   ]
  },
  {
   "cell_type": "markdown",
   "id": "7f071bb5",
   "metadata": {},
   "source": [
    "## Prediction\n",
    "\n",
    "Now we can use out perceptron to make prediction about the weight of a fish given just the width of it, even if its width was not in the original dataset."
   ]
  },
  {
   "cell_type": "code",
   "execution_count": 148,
   "id": "6f3c1bae",
   "metadata": {},
   "outputs": [
    {
     "data": {
      "text/plain": [
       "1.5464419003946854"
      ]
     },
     "execution_count": 148,
     "metadata": {},
     "output_type": "execute_result"
    }
   ],
   "source": [
    "perceptron.feed_forward([10.0, 1.0])"
   ]
  },
  {
   "cell_type": "markdown",
   "id": "ed7f41c0",
   "metadata": {},
   "source": [
    "# Multiple Inputs Perceptron\n",
    "\n",
    "We will use the full set of data available, Length1, Length2, Length3, Height, Width, to train a perceptron that can predict the Weight of a fish with possibly more precision."
   ]
  },
  {
   "cell_type": "code",
   "execution_count": 149,
   "id": "5d894cba",
   "metadata": {},
   "outputs": [
    {
     "data": {
      "text/plain": [
       "array([0.86517789, 0.1667644 ])"
      ]
     },
     "execution_count": 149,
     "metadata": {},
     "output_type": "execute_result"
    }
   ],
   "source": [
    "perceptron = Perceptron(2, 0.001)\n",
    "perceptron.weights"
   ]
  },
  {
   "cell_type": "code",
   "execution_count": 150,
   "id": "8af9aa27",
   "metadata": {},
   "outputs": [
    {
     "name": "stderr",
     "output_type": "stream",
     "text": [
      "C:\\Users\\mccal\\AppData\\Local\\Temp\\ipykernel_10452\\1802018661.py:22: RuntimeWarning: overflow encountered in scalar multiply\n",
      "  total = sum([weight * inputs[i] for i, weight in enumerate(self.weights)])\n",
      "C:\\Users\\mccal\\AppData\\Local\\Temp\\ipykernel_10452\\1802018661.py:16: RuntimeWarning: invalid value encountered in scalar add\n",
      "  self.weights = [weight + (self.lr * error * inputs[i]) for i, weight in enumerate(self.weights)]\n"
     ]
    },
    {
     "data": {
      "text/plain": [
       "nan"
      ]
     },
     "execution_count": 150,
     "metadata": {},
     "output_type": "execute_result"
    }
   ],
   "source": [
    "shuffled_data = np.copy(data)\n",
    "np.random.shuffle(shuffled_data)\n",
    "input_data = shuffled_data[:, 1:]\n",
    "output_data = shuffled_data[:, 0]\n",
    "\n",
    "epochs = 1000\n",
    "\n",
    "for _ in range(epochs):\n",
    "    for i, x in enumerate(input_data):\n",
    "        perceptron.train(np.append(x, 1.0), output_data[i])\n",
    "      \n",
    "errors = np.array([])\n",
    "for _ in range(100):\n",
    "    sample_index = random.randrange(0, len(input_data))\n",
    "    errors = np.append(errors, perceptron.evaluate(np.append(input_data[sample_index], 1.0), output_data[sample_index]))\n",
    "    \n",
    "np.average(errors)"
   ]
  },
  {
   "cell_type": "markdown",
   "id": "4d73b4d9",
   "metadata": {},
   "source": [
    "# Perceptron Classifier\n",
    "\n",
    "We can also use the perceptron as a classifier. For this example, we will use the width and height of the fish to determine if it is a bream or a perch. We will set bream to be represented by \"1\" and perch to be represented by \"-1\"."
   ]
  },
  {
   "cell_type": "code",
   "execution_count": null,
   "id": "ac1f5fa7",
   "metadata": {},
   "outputs": [],
   "source": [
    "classification_data = np.array([row for row in raw_data if row[0] == \"Bream\" or row[0] == \"Perch\"])\n",
    "classification_data[:, 0] = np.array([\"1.0\" if name == \"Bream\" else \"-1.0\" for name in classification_data[:, 0]])\n",
    "classification_data[:10]"
   ]
  },
  {
   "cell_type": "markdown",
   "id": "3448c1f8",
   "metadata": {},
   "source": [
    "Split data into input and output as we have done before. We then graph the data, the red points are breams while the blue points are perch."
   ]
  },
  {
   "cell_type": "code",
   "execution_count": null,
   "id": "8c4bfa14",
   "metadata": {},
   "outputs": [],
   "source": [
    "classification_output = np.array(classification_data[:, 0], dtype=float)\n",
    "classification_input = np.array(classification_data[:, -2:], dtype=float)\n",
    "\n",
    "plt.xlabel(\"Height(cm)\")\n",
    "plt.ylabel(\"Width(cm)\")\n",
    "\n",
    "bream_x, bream_y = [], []\n",
    "perch_x, perch_y = [], []\n",
    "for i, val in enumerate(classification_output):\n",
    "    if val == 1:\n",
    "        bream_x.append(classification_input[i][0])\n",
    "        bream_y.append(classification_input[i][1])\n",
    "    elif val == -1:\n",
    "        perch_x.append(classification_input[i][0])\n",
    "        perch_y.append(classification_input[i][1])\n",
    "pts_bream = plt.plot(bream_x, bream_y, \"rx\")\n",
    "pts_perch = plt.plot(perch_x, perch_y, \"bx\")\n",
    "plt.show()"
   ]
  },
  {
   "cell_type": "code",
   "execution_count": null,
   "id": "57c31985",
   "metadata": {},
   "outputs": [],
   "source": [
    "print(classification_input.shape)\n",
    "print(classification_output.shape)"
   ]
  },
  {
   "cell_type": "markdown",
   "id": "59b0b695",
   "metadata": {},
   "source": [
    "Time to setup and train the perceptron"
   ]
  },
  {
   "cell_type": "code",
   "execution_count": null,
   "id": "df4e7905",
   "metadata": {},
   "outputs": [],
   "source": [
    "perceptron = Perceptron(3, 0.0001, True)\n",
    "perceptron.weights"
   ]
  },
  {
   "cell_type": "code",
   "execution_count": null,
   "id": "d5839ad9",
   "metadata": {
    "scrolled": true
   },
   "outputs": [],
   "source": [
    "fig, ax = plt.subplots()\n",
    "plt.xlabel(\"Height(cm)\")\n",
    "plt.ylabel(\"Width(cm)\")\n",
    "\n",
    "bream_x, bream_y = [], []\n",
    "perch_x, perch_y = [], []\n",
    "for i, val in enumerate(classification_output):\n",
    "    if val == 1:\n",
    "        bream_x.append(classification_input[i][0])\n",
    "        bream_y.append(classification_input[i][1])\n",
    "    elif val == -1:\n",
    "        perch_x.append(classification_input[i][0])\n",
    "        perch_y.append(classification_input[i][1])\n",
    "pts_bream = plt.plot(bream_x, bream_y, \"rx\")\n",
    "pts_perch = plt.plot(perch_x, perch_y, \"bx\")\n",
    "\n",
    "ln, = plt.plot([], [], '-')\n",
    "\n",
    "def animate(frame_num):\n",
    "    for i, value in enumerate(classification_input):\n",
    "        perceptron.train(np.append(value, 1.0), classification_output[i])\n",
    "\n",
    "    # Draw the line based on the current weights\n",
    "    # Formula is weights[0]*x + weights[1]*y + weights[2] = 0\n",
    "    axes = plt.gca()\n",
    "    x_vals = np.array(axes.get_xlim())\n",
    "    y_vals = (-perceptron.weights[2] - perceptron.weights[0] * x_vals) / perceptron.weights[1];\n",
    "    \n",
    "    ln.set_data(x_vals, y_vals)\n",
    "\n",
    "epochs = 100\n",
    "anim = animation.FuncAnimation(fig, animate, frames=epochs, interval=20)\n",
    "plt.show()\n",
    "    "
   ]
  },
  {
   "cell_type": "code",
   "execution_count": null,
   "id": "e32c209b",
   "metadata": {},
   "outputs": [],
   "source": [
    "print(perceptron.feed_forward([12, 3, 1.0]))\n",
    "print(perceptron.weights)"
   ]
  }
 ],
 "metadata": {
  "kernelspec": {
   "display_name": "Python 3 (ipykernel)",
   "language": "python",
   "name": "python3"
  },
  "language_info": {
   "codemirror_mode": {
    "name": "ipython",
    "version": 3
   },
   "file_extension": ".py",
   "mimetype": "text/x-python",
   "name": "python",
   "nbconvert_exporter": "python",
   "pygments_lexer": "ipython3",
   "version": "3.11.4"
  }
 },
 "nbformat": 4,
 "nbformat_minor": 5
}
